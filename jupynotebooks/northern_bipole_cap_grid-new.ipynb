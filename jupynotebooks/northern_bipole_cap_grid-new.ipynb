{
 "cells": [
  {
   "cell_type": "markdown",
   "metadata": {},
   "source": [
    "# Implementation (Alternative to Murray96)"
   ]
  },
  {
   "cell_type": "markdown",
   "metadata": {},
   "source": [
    "## helper routines and constants"
   ]
  },
  {
   "cell_type": "code",
   "execution_count": 1,
   "metadata": {
    "collapsed": true
   },
   "outputs": [],
   "source": [
    "#General imports and definitions\n",
    "import numpy as np\n",
    "import matplotlib.pyplot as plt\n",
    "%matplotlib inline\n",
    "PI_180 = np.pi/180.\n",
    "\n",
    "#Constants\n",
    "PI_180 = np.pi/180.\n",
    "_default_Re = 6.378e6\n",
    "\n",
    "#utility function to plot grids \n",
    "def plot_mesh_in_latlon(lam, phi, stride=1, phi_color='k', lam_color='r'):\n",
    "    if (phi.shape != lam.shape): raise Exception('Ooops: lam and phi should have same shape')\n",
    "    nj,ni = lam.shape\n",
    "    for i in range(0,ni,stride):\n",
    "        plt.plot(lam[:,i],phi[:,i],lam_color)\n",
    "    for j in range(0,nj,stride):\n",
    "        plt.plot(lam[j,:],phi[j,:],phi_color)\n",
    "#plot_mesh_in_latlon(lams,phis,stride=16)\n",
    "def plot_mesh_in_xyz(lam, phi, stride=1, phi_color='k', lam_color='r'):\n",
    "    x = np.cos(phi*PI_180) * np.cos(lam*PI_180)\n",
    "    y = np.cos(phi*PI_180) * np.sin(lam*PI_180)\n",
    "    z = np.sin(phi*PI_180)\n",
    "    plot_mesh_in_latlon(x, y, stride=stride, phi_color=phi_color, lam_color=lam_color)\n",
    "#plt.figure(figsize=(6,6))\n",
    "#plot_mesh_in_xyz(lams, phis, stride=20)\n",
    "\n",
    "def mdist(x1,x2):\n",
    "  \"\"\"Returns positive distance modulo 360.\"\"\"\n",
    "  a=np.mod(x1-x2+720.,360.)\n",
    "  b=np.mod(x2-x1+720.,360.)\n",
    "  d=np.minimum(a,b)\n",
    "  return d\n",
    "def generate_grid_metrics(x,y,axis_units='degrees',Re=_default_Re, latlon_areafix=False):\n",
    "    nytot,nxtot = x.shape\n",
    "    if  axis_units == 'm':\n",
    "      metric=1.0\n",
    "    if  axis_units == 'km':            \n",
    "      metric=1.e3\n",
    "    if  axis_units == 'degrees':                        \n",
    "      metric=Re*PI_180\n",
    "    ymid_j = 0.5*(y+np.roll(y,shift=-1,axis=0))\n",
    "    ymid_i = 0.5*(y+np.roll(y,shift=-1,axis=1))      \n",
    "    dy_j = np.roll(y,shift=-1,axis=0) - y\n",
    "    dy_i = np.roll(y,shift=-1,axis=1) - y\n",
    "    dx_i = mdist(np.roll(x,shift=-1,axis=1),x)\n",
    "    dx_j = mdist(np.roll(x,shift=-1,axis=0),x)\n",
    "    dx = metric*metric*(dy_i*dy_i + dx_i*dx_i*np.cos(ymid_i*PI_180)*np.cos(ymid_i*PI_180))\n",
    "    dx = np.sqrt(dx)\n",
    "    dy = metric*metric*(dy_j*dy_j + dx_j*dx_j*np.cos(ymid_j*PI_180)*np.cos(ymid_j*PI_180))\n",
    "    dy = np.sqrt(dy)\n",
    "    dx=dx[:,:-1]\n",
    "    dy=dy[:-1,:]\n",
    "    if(latlon_areafix):\n",
    "        delsin_j = np.roll(np.sin(y*PI_180),shift=-1,axis=0) - np.sin(y*PI_180)\n",
    "        area=metric*metric*dx_i[:-1,:-1]*delsin_j[:-1,:-1]/PI_180\n",
    "    else:\n",
    "        area=dx[:-1,:]*dy[:,:-1]    \n",
    "    angle_dx=np.zeros((nytot,nxtot))\n",
    "#    angle_dx = np.arctan2(dy_i,dx_i)/PI_180      \n",
    "#    self.angle_dx = numpy.arctan2(dy_i,dx_i)*180.0/numpy.pi\n",
    "    # The commented out code above was incorrect for non-Cartesian grids\n",
    "    # The corrected version, in addition to including spherical metrics, is centered in the interior and one-sided at the grid edges\n",
    "    angle_dx[:,1:-1] = np.arctan2(y[:,2:]-y[:,:-2],(x[:,2:]-x[:,:-2])*np.cos(y[:,1:-1]*PI_180))\n",
    "    angle_dx[:,0]    = np.arctan2(y[:,1] -y[:,0]  ,(x[:,1] -x[:,0]  )*np.cos(y[:,0]*PI_180))\n",
    "    angle_dx[:,-1]   = np.arctan2(y[:,-1]-y[:,-2] ,(x[:,-1]-x[:,-2] )*np.cos(y[:,-1]*PI_180))\n",
    "    angle_dx = angle_dx /PI_180\n",
    "    return dx,dy,area,angle_dx\n",
    "\n",
    "\n",
    "def write_nc(x,y,dx,dy,area,angle,axis_units='degrees',fnam=None,format='NETCDF3_CLASSIC'):\n",
    "    import netCDF4 as nc\n",
    "\n",
    "    if fnam is None:\n",
    "      fnam='supergrid.nc'\n",
    "    f=nc.Dataset(fnam,'w',format=format)\n",
    "    dims=[]\n",
    "    vars=[]\n",
    "    nytot,nxtot = y.shape\n",
    "    nyp=f.createDimension('nyp',nytot)\n",
    "    nxp=f.createDimension('nxp',nxtot)\n",
    "    ny=f.createDimension('ny',nytot-1)\n",
    "    nx=f.createDimension('nx',nxtot-1)    \n",
    "    yv=f.createVariable('y','f8',('nyp','nxp'))\n",
    "    xv=f.createVariable('x','f8',('nyp','nxp'))    \n",
    "    yv.units=axis_units\n",
    "    xv.units=axis_units \n",
    "    yv[:]=y\n",
    "    xv[:]=x\n",
    "    dyv=f.createVariable('dy','f8',('ny','nxp'))\n",
    "    dyv.units='meters'\n",
    "    dyv[:]=dy\n",
    "    dxv=f.createVariable('dx','f8',('nyp','nx'))\n",
    "    dxv.units='meters'\n",
    "    dxv[:]=dx\n",
    "    areav=f.createVariable('area','f8',('ny','nx'))\n",
    "    areav.units='m2'\n",
    "    areav[:]=area\n",
    "    anglev=f.createVariable('angle_dx','f8',('nyp','nxp'))\n",
    "    anglev.units='degrees'\n",
    "    anglev[:]=angle            \n",
    "    f.sync()\n",
    "    f.close()\n",
    "\n",
    "def generate_latlon_grid(lni,lnj,llon0,llen_lon,llat0,llen_lat):\n",
    "    llonSP = llon0 + np.arange(lni+1) * llen_lon/lni\n",
    "    llatSP = llat0 + np.arange(lnj+1) * llen_lat/lnj\n",
    "    llamSP = np.tile(llonSP,(lnj+1,1)) \n",
    "    lphiSP = np.tile(llatSP.reshape((lnj+1,1)),(1,lni+1)) \n",
    "    return llamSP,lphiSP\n",
    "\n",
    "def area_error(lam_,phi_,lat1,lat2=90):\n",
    "    #generate the metrics\n",
    "    dx_,dy_,area_,angle_ = generate_grid_metrics(lam_,phi_,axis_units='degrees')\n",
    "    if(lat2 == 90):\n",
    "        exact_area = 2*np.pi*(Re**2)*(1-np.sin(lat1*PI_180))\n",
    "    error = 100*(np.sum(area_)-exact_area)/exact_area\n",
    "    return error\n",
    "\n",
    "\n",
    "def metrics_error(dx_,dy_,area_,lat1,lat2=90,Re=_default_Re,debug=False):\n",
    "    exact_area = 2*np.pi*(Re**2)*(np.sin(lat2*PI_180)-np.sin(lat1*PI_180))\n",
    "    exact_lat_arc_length = (lat2-lat1)*PI_180*Re  \n",
    "    exact_lon_arc_length = np.cos(lat1*PI_180) *2*np.pi*Re\n",
    "\n",
    "    if(lat2 == -90):\n",
    "        grid_lat_arc_length = (np.sum(dy_[:,0])+np.sum(dy_[:,Ni//2]))/2\n",
    "        grid_lon_arc_length = np.sum(dx_[-1,:])\n",
    "    else:\n",
    "        grid_lat_arc_length = np.sum(dy_[:,Ni//4])\n",
    "        grid_lon_arc_length = np.sum(dx_[0,:])\n",
    "        \n",
    "    calc_area = np.sum(area_)   \n",
    "    area_error = 100*(calc_area-exact_area)/exact_area\n",
    "    lat_arc_error = 100*(grid_lat_arc_length - exact_lat_arc_length)/exact_lat_arc_length\n",
    "    lon_arc_error = 100*(grid_lon_arc_length -  exact_lon_arc_length)/exact_lon_arc_length\n",
    "    \n",
    "    if(debug):\n",
    "        return area_error,lat_arc_error,lon_arc_error,calc_area\n",
    "    else:\n",
    "        return area_error,lat_arc_error,lon_arc_error\n",
    "\n",
    "    \n",
    "def quad_positions(n=3):\n",
    "    \"\"\"Returns weights wa and wb so that the element [xa,xb] is sampled at positions\n",
    "    x=wa(xa+xb*xb).\"\"\"\n",
    "    if n==2:\n",
    "        return np.array([0.,1.]),np.array([1.,0.])\n",
    "    if n==3:\n",
    "        return np.array([0.,0.5,1.]),np.array([1.,0.5,0.])\n",
    "    if n==4:\n",
    "        r5 = 0.5 / np.sqrt(5.)\n",
    "        return np.array([0.,0.5-r5,0.5+r5,1.]),np.array([1.,0.5+r5,0.5-r5,0.])\n",
    "    if n==5:\n",
    "        r37 = 0.5 * np.sqrt(3./7.)\n",
    "        return np.array([0.,0.5-r37,0.5,0.5+r37,1.]),np.array([1.,0.5+r37,0.5,0.5-r37,0.])\n",
    "    raise Exception('Uncoded order')\n",
    "\n",
    "def quad_average(y):\n",
    "    \"\"\"Returns the average value found by quadrature at order n.\n",
    "    y is a list of values in order from x=-1 to x=1.\"\"\"\n",
    "    if len(y)==2: # 1, 1\n",
    "        d = 1./2.\n",
    "        return d * ( y[0] + y[1] )\n",
    "    if len(y)==3: # 1/3, 4/3, 1/3\n",
    "        d = 1./6.\n",
    "        return d * ( 4. * y[1] + ( y[0] + y[2] ) )\n",
    "    if len(y)==4: # 1/6, 5/6, 5/6, 1/6\n",
    "        d = 1. / 12.\n",
    "        return d * ( 5. * ( y[1] + y[2] ) + ( y[0] + y[3] ) )\n",
    "    if len(y)==5: # 9/10, 49/90, 64/90, 49/90, 9/90\n",
    "        d = 1. / 180.\n",
    "        return d * ( 64.* y[2] + ( 49. * ( y[1] + y[3] ) )  + 9. * ( y[0] + y[4] ) )\n",
    "    raise Exception('Uncoded order')\n",
    "    \n",
    "def quad_average_2d(y):\n",
    "    \"\"\"Returns the average value found by quadrature at order n.\n",
    "    y is a list of values in order from x1=-1 to x1=1 and x2=-1 to x2=1.\"\"\"\n",
    "    if y.shape[0] != y.shape[1]:\n",
    "        raise Exception('Input array is not squared!')\n",
    "        \n",
    "    if y.shape[0]==2: # 1, 1\n",
    "        d = 1./2.\n",
    "        return d * d * ( y[0,0] + y[0,1] + y[1,0] + y[1,1] )\n",
    "    if y.shape[0]==3: # 1/3, 4/3, 1/3\n",
    "        d = 1./6.\n",
    "        return d * d * ( y[0,0]+y[0,2]+y[2,0]+y[2,2] +4.*(y[0,1]+y[1,0]+y[1,2]+y[2,1] + 4.*y[1,1])) \n",
    "    if y.shape[0]==4: # 1/6, 5/6, 5/6, 1/6\n",
    "        d = 1. / 12.\n",
    "#       return d * ( 5. * ( y[1] + y[2] ) + ( y[0] + y[3] ) )\n",
    "        w = np.array([1.,5.,5.,1.])\n",
    "        ysum=0.\n",
    "        for j in range(0,y.shape[0]): \n",
    "            for i in range(0,y.shape[1]):\n",
    "                ysum = ysum+ w[i]*w[j]*y[j,i]\n",
    "        return d * d * ysum\n",
    "    if y.shape[0]==5: # 9/10, 49/90, 64/90, 49/90, 9/90\n",
    "        d = 1. / 180.\n",
    "        #return d * ( 64.* y[2] + ( 49. * ( y[1] + y[3] ) )  + 9. * ( y[0] + y[4] ) )\n",
    "        w = np.array([9.,49.,64.,49.,9.])\n",
    "        ysum=0.\n",
    "        for j in range(0,y.shape[0]): \n",
    "            for i in range(0,y.shape[1]):\n",
    "                ysum = ysum+ w[i]*w[j]*y[j,i]\n",
    "        return d * d * ysum\n",
    "    \n",
    "    raise Exception('Uncoded order')\n",
    "\n"
   ]
  },
  {
   "cell_type": "markdown",
   "metadata": {},
   "source": [
    "## grid parameters¶"
   ]
  },
  {
   "cell_type": "code",
   "execution_count": 2,
   "metadata": {
    "collapsed": true
   },
   "outputs": [],
   "source": [
    "# Specify the grid properties\n",
    "# All\n",
    "# Specify the desired resolution\n",
    "refineR = 1/4 #Inverse of nominal resolution\n",
    "refineS=2    # Set to 2 for supergrid\n",
    "lenlon=360  # global longitude range\n",
    "lon0=-300.  # Starting longitude (longitude of the Northern bipoles)\n",
    "Ni = int(lenlon*refineS*refineR)\n",
    "\n",
    "#Northern bipolar cap\n",
    "lat0_bp=60. #61.247692871618455 #mercator.y.max()\n",
    "Nj_ncap =10 # int(0.5+ (90.-lat0_bp)*refineS*refineR) \n",
    "lon_bp=lon0 # longitude of the displaced pole(s)\n",
    "\n"
   ]
  },
  {
   "cell_type": "markdown",
   "metadata": {},
   "source": [
    "## Implement new algorithm"
   ]
  },
  {
   "cell_type": "code",
   "execution_count": 3,
   "metadata": {
    "collapsed": true
   },
   "outputs": [],
   "source": [
    "def bipolar_projection(lamg,phig,lon_bp,rp):\n",
    "    \"\"\"Makes a stereographic bipolar projection of the input coordinate mesh (lamg,phig)  \n",
    "       Returns the projected coordinate mesh and their metric coefficients (h^-1).\n",
    "       The input mesh must be a regular spherical grid capping the pole with:\n",
    "           latitudes between 2*arctan(rp) and 90  degrees\n",
    "           longitude between lon_bp       and lonp+360   \n",
    "       \"\"\"\n",
    "    ### symmetry meridian resolution fix \n",
    "    phig = 90-2*np.arctan(np.tan(0.5*(90-phig)*PI_180)/rp)/PI_180\n",
    "    #Simplify  the formulas to avoid division by zero\n",
    "    alpha2 = (np.cos((lamg-lon_bp)*PI_180))**2\n",
    "    beta2_inv = (np.tan(phig*PI_180))**2\n",
    "    A=np.sqrt(1-alpha2)*np.sin(phig*PI_180) #Actually two equations  +- |A|    \n",
    "    B=np.sqrt((1-alpha2)/(1+alpha2*beta2_inv)) #Actually two equations  +- |B|\n",
    "    #Deal with beta=0\n",
    "    B=np.where(np.abs(beta2_inv)>1.0E10 , 0.0, B)\n",
    "    \n",
    "    lamc = np.arcsin(B)/PI_180\n",
    "    chic = np.arccos(A)\n",
    "    ##But this equation accepts 4 solutions for a given B, {l, 180-l, l+180, 360-l } \n",
    "    ##We have to pickup the \"correct\" root. \n",
    "    ##One way is simply to demand lamc to be continuous with lam on the equator phi=0\n",
    "    ##I am sure there is a more mathematically concrete way to do this.\n",
    "    lamc = np.where((lamg-lon_bp>90)&(lamg-lon_bp<=180),180-lamc,lamc)\n",
    "    lamc = np.where((lamg-lon_bp>180)&(lamg-lon_bp<=270),180+lamc,lamc)\n",
    "    lamc = np.where((lamg-lon_bp>270),360-lamc,lamc)\n",
    "    #Along symmetry meridian choose lamc\n",
    "    lamc = np.where((lamg-lon_bp==90),90,lamc)    #Along symmetry meridian choose lamc=90-lon_bp\n",
    "    lamc = np.where((lamg-lon_bp==270),270,lamc)  #Along symmetry meridian choose lamc=270-lon_bp    \n",
    "    lams = lamc + lon_bp\n",
    "    ##Project back onto the larger (true) sphere so that the projected equator shrinks to latitude \\phi_P=lat0_tp\n",
    "    ##then we have tan(\\phi_s'/2)=tan(\\phi_p'/2)tan(\\phi_c'/2)\n",
    "    phis = 90 - 2 * np.arctan(rp * np.tan(chic/2))/PI_180\n",
    "\n",
    "    ##Calculate the Metrics\n",
    "    M_inv = rp * (1 + (np.tan(chic/2))**2) / (1 + (rp*np.tan(chic/2))**2)\n",
    "    M = 1/M_inv\n",
    "    chig = (90-phig)*PI_180\n",
    "    N     = rp * (1 + (np.tan(chig/2))**2) / (1 + (rp*np.tan(chig/2))**2)\n",
    "    N_inv = 1/N    \n",
    "    cos2phis = (np.cos(phis*PI_180))**2 \n",
    "\n",
    "    h_j_inv = cos2phis*alpha2*(1-alpha2)*beta2_inv*(1+beta2_inv)/(1+alpha2*beta2_inv)**2 \\\n",
    "            +  M_inv*M_inv*(1-alpha2)/(1+alpha2*beta2_inv) \n",
    "    #Deal with beta=0. Prove that cos2phis/alpha2 ---> 0 when alpha, beta  ---> 0\n",
    "    h_j_inv=np.where(np.abs(beta2_inv)>1.0E20 , M_inv*M_inv, h_j_inv)        \n",
    "    h_j_inv = np.sqrt(h_j_inv)*N_inv \n",
    "\n",
    "    h_i_inv = cos2phis * (1+beta2_inv)/(1+alpha2*beta2_inv)**2 + M_inv*M_inv*alpha2*beta2_inv/(1+alpha2*beta2_inv)\n",
    "    #Deal with beta=0\n",
    "    h_i_inv=np.where(np.abs(beta2_inv)>1.0E20 , M_inv*M_inv, h_i_inv)    \n",
    "    h_i_inv = np.sqrt(h_i_inv) \n",
    "    return lams,phis,h_i_inv,h_j_inv\n",
    "\n",
    "def generate_bipolar_cap_mesh(Ni,Nj_ncap,lat0_bp,lon_bp, ensure_nj_even=True):\n",
    "    #Define a (lon,lat) coordinate mesh on the Northern hemisphere of the globe sphere\n",
    "    #such that the resolution of latg matches the desired resolution of the final grid along the symmetry meridian \n",
    "    print( 'Generating bipolar grid bounded at latitude ',lat0_bp  )\n",
    "    if(Nj_ncap%2 != 0 and ensure_nj_even):\n",
    "        print(\"   Supergrid has an odd number of area cells!\")\n",
    "        if(ensure_nj_even):\n",
    "            print(\"   The number of j's is not even. Fixing this by cutting one row.\")\n",
    "            Nj_ncap =  Nj_ncap - 1\n",
    "\n",
    "    lon_g = lon_bp  + np.arange(Ni+1) *  360./Ni\n",
    "    lamg = np.tile(lon_g,(Nj_ncap+1,1)) \n",
    "    latg0_cap = lat0_bp + np.arange(Nj_ncap+1) * (90-lat0_bp)/Nj_ncap\n",
    "    phig = np.tile(latg0_cap.reshape((Nj_ncap+1,1)),(1,Ni+1))\n",
    "    rp=np.tan(0.5*(90-lat0_bp)*PI_180)\n",
    "    lams,phis,h_i_inv,h_j_inv = bipolar_projection(lamg,phig,lon_bp,rp)\n",
    "    print('   number of js=',phis.shape[0])\n",
    "    h_i_inv = h_i_inv[:,:-1] * 2*np.pi/Ni\n",
    "    h_j_inv = h_j_inv[:-1,:] * PI_180*(90-lat0_bp)/Nj_ncap\n",
    "    return lams,phis,h_i_inv,h_j_inv\n",
    "\n",
    "def bipolar_cap_ij(i,j,Ni,Nj_ncap,lat0_bp,lon_bp,rp):\n",
    "    lamg = lon_bp  + i * 360./Ni \n",
    "    phig = lat0_bp + j * (90-lat0_bp)/Nj_ncap\n",
    "    lams,phis,h_i_inv,h_j_inv = bipolar_projection(lamg,phig,lon_bp,rp)\n",
    "    h_i_inv = h_i_inv * 2*np.pi/Ni\n",
    "    h_j_inv = h_j_inv * (90-lat0_bp)*PI_180/Nj_ncap\n",
    "    return lams,phis,h_i_inv,h_j_inv\n",
    "\n",
    "def bipolar_cap_ij_array(i,j,Ni,Nj_ncap,lat0_bp,lon_bp,rp):\n",
    "    long = lon_bp  + i * 360./Ni \n",
    "    latg = lat0_bp + j * (90-lat0_bp)/Nj_ncap\n",
    "    lamg = np.tile(long,(latg.shape[0],1)) \n",
    "    phig = np.tile(latg.reshape((latg.shape[0],1)),(1,long.shape[0]))\n",
    "    lams,phis,h_i_inv,h_j_inv = bipolar_projection(lamg,phig,lon_bp,rp)\n",
    "    h_i_inv = h_i_inv * 2*np.pi/Ni\n",
    "    h_j_inv = h_j_inv * (90-lat0_bp)*PI_180/Nj_ncap\n",
    "    return lams,phis,h_i_inv,h_j_inv\n",
    "\n",
    "\n",
    "def bipolar_cap_metrics_quad(nth_order,nx,ny,lat0_bp,lon_bp,rp,Re=_default_Re):\n",
    "    a,b = quad_positions(nth_order)\n",
    "    daq = np.zeros([ny+1,nx+1])\n",
    "    dxq = np.zeros([ny+1,nx+1])\n",
    "    dyq = np.zeros([ny+1,nx+1])\n",
    "    \n",
    "    for j in range(0,ny+1):  \n",
    "        j_s = b*j + a*(j+1)\n",
    "        if(j_s[-1]==ny): j_s[-1]=ny-0.001 #avoid phi=90. Niki:Find a way to avoid this properly\n",
    "        for i in range(0,nx+1):\n",
    "            i_s = b*i + a*(i+1)\n",
    "            lamsij,phisij,dxij,dyij =  bipolar_cap_ij_array(i_s,j_s,nx,ny,lat0_bp,lon_bp,rp)\n",
    "            dxdyij = dxij*dyij\n",
    "            daq[j,i] = quad_average_2d(dxdyij)\n",
    "            dxq[j,i] = quad_average(dxij[0,:])\n",
    "            dyq[j,i] = quad_average(dyij[:,0])\n",
    "    daq = daq[:-1,:-1]*Re*Re   \n",
    "    dxq = dxq[:,:-1]  *Re\n",
    "    dyq = dyq[:-1,:]  *Re\n",
    "    return dxq,dyq,daq \n",
    "\n",
    "def bipolar_cap_metrics_quad_fast(order,nx,ny,lat0_bp,lon_bp,rp,Re=_default_Re):\n",
    "    a,b = quad_positions(order)\n",
    "    daq = np.zeros([ny+1,nx+1])\n",
    "    dxq = np.zeros([ny+1,nx+1])\n",
    "    dyq = np.zeros([ny+1,nx+1])\n",
    "    \n",
    "    j1d = np.empty([0])\n",
    "    for j in range(0,ny):  \n",
    "        j_s = b*j + a*(j+1)\n",
    "        if(j_s[-1]==ny): j_s[-1]=ny-0.001 #avoid phi=90. Niki:Find a way to avoid this properly\n",
    "        j1d = np.append(j1d,j_s)\n",
    "\n",
    "    i1d = np.empty([0])\n",
    "    for i in range(0,nx):  \n",
    "        i_s = b*i + a*(i+1)\n",
    "        i1d = np.append(i1d,i_s)\n",
    "\n",
    "    lams,phis,dx,dy = bipolar_cap_ij_array(i1d,j1d,nx,ny,lat0_bp,lon_bp,rp)\n",
    "    #reshape to send for quad averaging\n",
    "    dx_r = dx.reshape(ny,order,nx,order)\n",
    "    dy_r = dy.reshape(ny,order,nx,order)\n",
    "    #area element\n",
    "    dxdy_r = dx_r*dy_r\n",
    "\n",
    "    for j in range(0,ny):  \n",
    "        for i in range(0,nx):\n",
    "            daq[j,i] = quad_average_2d(dxdy_r[j,:,i,:])\n",
    "            dxq[j,i] = quad_average(dx_r[j,0,i,:])\n",
    "            dyq[j,i] = quad_average(dy_r[j,:,i,0])\n",
    "    daq = daq[:-1,:-1]*Re*Re   \n",
    "    dxq = dxq[:,:-1]  *Re\n",
    "    dyq = dyq[:-1,:]  *Re\n",
    "    return dxq,dyq,daq       \n"
   ]
  },
  {
   "cell_type": "code",
   "execution_count": 4,
   "metadata": {
    "scrolled": true
   },
   "outputs": [
    {
     "name": "stdout",
     "output_type": "stream",
     "text": [
      "Generating bipolar grid bounded at latitude  60.0\n",
      "   number of js= 11\n",
      "non-quad %errors in (area,lat arc,lon arc) (1.9329675330736393, 0.0, -5.654319433712917e-14)\n"
     ]
    }
   ],
   "source": [
    "rp=np.tan(0.5*(90-lat0_bp)*PI_180)\n",
    "lams,phis,dx,dy = generate_bipolar_cap_mesh(Ni,Nj_ncap,lat0_bp,lon_bp)\n",
    "dxdy = dx[:-1,:]*dy[:,:-1]\n",
    "\n",
    "print(\"non-quad %errors in (area,lat arc,lon arc)\", metrics_error(dx,  dy,  dxdy, lat1=lat0_bp,Re=1))"
   ]
  },
  {
   "cell_type": "code",
   "execution_count": 5,
   "metadata": {},
   "outputs": [
    {
     "name": "stdout",
     "output_type": "stream",
     "text": [
      "quad=2 %errors in (area,lat arc,lon arc) (0.034736716684703635, 0.0, -5.654319433712917e-14)\n"
     ]
    }
   ],
   "source": [
    "rp=np.tan(0.5*(90-lat0_bp)*PI_180)\n",
    "dx_q,dy_q,da_q = bipolar_cap_metrics_quad(2,phis.shape[1]-1,phis.shape[0]-1,lat0_bp,lon_bp,rp,Re=1)    \n",
    "print(\"quad=2 %errors in (area,lat arc,lon arc)\", metrics_error(dx_q, dy_q, da_q, lat1=lat0_bp,Re=1))"
   ]
  },
  {
   "cell_type": "code",
   "execution_count": 6,
   "metadata": {},
   "outputs": [
    {
     "name": "stdout",
     "output_type": "stream",
     "text": [
      "quad=3 %errors in (area,lat arc,lon arc) (-2.5694415710746114e-06, 2.1203697876423447e-14, -5.654319433712917e-14)\n"
     ]
    }
   ],
   "source": [
    "rp=np.tan(0.5*(90-lat0_bp)*PI_180)\n",
    "dx_q,dy_q,da_q = bipolar_cap_metrics_quad(3,phis.shape[1]-1,phis.shape[0]-1,lat0_bp,lon_bp,rp,Re=1)    \n",
    "print(\"quad=3 %errors in (area,lat arc,lon arc)\", metrics_error(dx_q, dy_q, da_q, lat1=lat0_bp,Re=1))"
   ]
  },
  {
   "cell_type": "code",
   "execution_count": 7,
   "metadata": {},
   "outputs": [
    {
     "name": "stdout",
     "output_type": "stream",
     "text": [
      "quad=4 %errors in (area,lat arc,lon arc) (3.781634267580926e-09, 0.0, -5.654319433712917e-14)\n"
     ]
    }
   ],
   "source": [
    "rp=np.tan(0.5*(90-lat0_bp)*PI_180)\n",
    "dx_q,dy_q,da_q = bipolar_cap_metrics_quad(4,phis.shape[1]-1,phis.shape[0]-1,lat0_bp,lon_bp,rp,Re=1)    \n",
    "print(\"quad=4 %errors in (area,lat arc,lon arc)\", metrics_error(dx_q, dy_q, da_q, lat1=lat0_bp,Re=1))"
   ]
  },
  {
   "cell_type": "code",
   "execution_count": 8,
   "metadata": {},
   "outputs": [
    {
     "name": "stdout",
     "output_type": "stream",
     "text": [
      "quad=5 %errors in (area,lat arc,lon arc) (2.2860285063589726e-09, 2.1203697876423447e-14, -5.654319433712917e-14)\n"
     ]
    }
   ],
   "source": [
    "rp=np.tan(0.5*(90-lat0_bp)*PI_180)\n",
    "dx_q,dy_q,da_q = bipolar_cap_metrics_quad(5,phis.shape[1]-1,phis.shape[0]-1,lat0_bp,lon_bp,rp,Re=1)    \n",
    "print(\"quad=5 %errors in (area,lat arc,lon arc)\", metrics_error(dx_q, dy_q, da_q, lat1=lat0_bp,Re=1))"
   ]
  },
  {
   "cell_type": "code",
   "execution_count": 9,
   "metadata": {
    "scrolled": true
   },
   "outputs": [
    {
     "data": {
      "image/png": "[encoded data removed]",
      "text/plain": [
       "<Figure size 432x288 with 2 Axes>"
      ]
     },
     "metadata": {
      "needs_background": "light"
     },
     "output_type": "display_data"
    }
   ],
   "source": [
    "plt.subplot(1, 2, 1);plt.plot(dx_q[-1,:]); \n",
    "plt.subplot(1, 2, 2);plt.plot(dy_q[:,Ni//8]);\n",
    "plt.tight_layout(); plt.show();"
   ]
  },
  {
   "cell_type": "code",
   "execution_count": 10,
   "metadata": {},
   "outputs": [
    {
     "name": "stdout",
     "output_type": "stream",
     "text": [
      "quad=5 %errors in (area,lat arc,lon arc) (2.2860285063589726e-09, 2.1203697876423447e-14, -5.654319433712917e-14)\n"
     ]
    }
   ],
   "source": [
    "rp=np.tan(0.5*(90-lat0_bp)*PI_180)\n",
    "dx_q,dy_q,da_q = bipolar_cap_metrics_quad_fast(5,Ni,Nj_ncap,lat0_bp,lon_bp,rp,Re=1)    \n",
    "print(\"quad=5 %errors in (area,lat arc,lon arc)\", metrics_error(dx_q, dy_q, da_q, lat1=lat0_bp,Re=1))"
   ]
  },
  {
   "cell_type": "code",
   "execution_count": 13,
   "metadata": {},
   "outputs": [
    {
     "name": "stdout",
     "output_type": "stream",
     "text": [
      "100 3.772019574330273e-12\n",
      "200 -5.3230318188800636e-11\n",
      "300 5.381062889254375e-11\n",
      "400 -3.351294314116512e-11\n",
      "500 8.11116097277314e-12\n",
      "600 -1.2082332629524348e-10\n",
      "700 2.8791324233437015e-11\n",
      "800 -1.1744697310982895e-10\n",
      "900 5.592084963342782e-11\n",
      "1000 -2.690531444627188e-12\n",
      "1100 -2.0867445351417337e-10\n"
     ]
    }
   ],
   "source": [
    "rp=np.tan(0.5*(90-lat0_bp)*PI_180)\n",
    "ii=0\n",
    "area=[]\n",
    "area_error=[]\n",
    "nj=[]\n",
    "for Nj_ in range(100,1200,100):\n",
    "    dx_q,dy_q,da_q = bipolar_cap_metrics_quad_fast(4,Ni,Nj_,lat0_bp,lon_bp,rp,Re=1)    \n",
    "    are,la,lo,ar = metrics_error(dx_q, dy_q, da_q, lat1=lat0_bp,Re=1,debug=True)\n",
    "    area.append(ar)    \n",
    "    area_error.append(are)    \n",
    "    nj.append(Nj_)\n",
    "    print(nj[ii],area_error[ii] )\n",
    "    ii = ii+1"
   ]
  },
  {
   "cell_type": "code",
   "execution_count": null,
   "metadata": {
    "collapsed": true
   },
   "outputs": [],
   "source": []
  }
 ],
 "metadata": {
  "anaconda-cloud": {},
  "kernelspec": {
   "display_name": "Python 3",
   "language": "python",
   "name": "python3"
  },
  "language_info": {
   "codemirror_mode": {
    "name": "ipython",
    "version": 3
   },
   "file_extension": ".py",
   "mimetype": "text/x-python",
   "name": "python",
   "nbconvert_exporter": "python",
   "pygments_lexer": "ipython3",
   "version": "3.6.1"
  }
 },
 "nbformat": 4,
 "nbformat_minor": 2
}
