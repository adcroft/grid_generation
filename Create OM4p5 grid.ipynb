{
 "cells": [
  {
   "cell_type": "code",
   "execution_count": 1,
   "metadata": {},
   "outputs": [],
   "source": [
    "import ocean_grid_generator as ogg\n",
    "import numpy"
   ]
  },
  {
   "cell_type": "code",
   "execution_count": 2,
   "metadata": {},
   "outputs": [],
   "source": [
    "nj, ni = 1152, 1440\n",
    "jEq = 527\n",
    "Re = 6378e3"
   ]
  },
  {
   "cell_type": "code",
   "execution_count": 3,
   "metadata": {},
   "outputs": [
    {
     "name": "stdout",
     "output_type": "stream",
     "text": [
      "Requesting Mercator grid with phi range: phi_s,phi_n= 0 68.1\n",
      "   y*= [  0 376] nj= 377\n",
      "  *Equator may not be a u-point!\n",
      "   Generating Mercator grid with phi range: phi_s,phi_n= [ 0.         68.05725377]\n",
      "   Equator is at j= 0\n",
      "  *Equator is not going to be a u-point of this grid patch.\n",
      "   Final Mercator grid range= 0.0 68.05725376601046\n",
      "   number of js= 377\n",
      "Northern latitude of OGG Mercator        =  68.05725376601046\n"
     ]
    }
   ],
   "source": [
    "# This creates a NH mercator between lat=0 and lat=~68.1\n",
    "xmn,ymn = ogg.generate_mercator_grid(1440, 0, 68.1, -300, 360, 1, shift_equator_to_u_point=False, ensure_nj_even=False)\n",
    "print('Northern latitude of OGG Mercator        = ', ymn[-1,0])"
   ]
  },
  {
   "cell_type": "code",
   "execution_count": 4,
   "metadata": {},
   "outputs": [
    {
     "name": "stdout",
     "output_type": "stream",
     "text": [
      "Generating regular lat-lon grid between latitudes  0.0 5.0\n",
      "   generated regular lat-lon grid between latitudes  0.0 5.0\n",
      "   number of js= 40\n"
     ]
    }
   ],
   "source": [
    "# Equatorial band\n",
    "xeb,yeb = ogg.generate_latlon_grid(1440, 39, -300., 360., 0., 5., ensure_nj_even=False)"
   ]
  },
  {
   "cell_type": "code",
   "execution_count": 5,
   "metadata": {},
   "outputs": [],
   "source": [
    "# Cubic band\n",
    "# Note: we know that this is using extrapolated data and should really be a quartic.\n",
    "N,jmatch = 130,124\n",
    "ycub = ogg.lagrange_interp4( [0,1,N-2,N-1], [5,5+.13, ymn[jmatch,0], ymn[jmatch+1,0]], numpy.arange(0,N) )"
   ]
  },
  {
   "cell_type": "code",
   "execution_count": 6,
   "metadata": {},
   "outputs": [
    {
     "name": "stdout",
     "output_type": "stream",
     "text": [
      "Generating regular lat-lon grid between latitudes  -78.0 -68.05725376601046\n",
      "   generated regular lat-lon grid between latitudes  -78.0 -68.05725376601046\n",
      "   number of js= 109\n"
     ]
    }
   ],
   "source": [
    "# Southen spherical band\n",
    "xss,yss = ogg.generate_latlon_grid(1440, 108, -300., 360., -78., 78 - ymn[-1,0], ensure_nj_even=False)\n",
    "xss,yss = xss[:-1,0],yss[:-1,0]"
   ]
  },
  {
   "cell_type": "code",
   "execution_count": 7,
   "metadata": {},
   "outputs": [],
   "source": [
    "# Join latitudes for Equatorial band, cubic and mercator (in northern hemisphere only)\n",
    "ytmp = numpy.concatenate( (yeb[:,0], ycub[1:-1], ymn[jmatch+1:,0]) ) # 1D array\n",
    "# Stitch together all grids with uniform zonal resolution (i.e. all but the Northern bi-polar cap)\n",
    "yreg = numpy.concatenate( (yss, -ytmp[::-1], ytmp[1:388]) )\n",
    "xreg = xeb[0,:] # 1D array (all longitudes across patches are the same)"
   ]
  },
  {
   "cell_type": "code",
   "execution_count": 8,
   "metadata": {},
   "outputs": [],
   "source": [
    "# Metrics for regular grid\n",
    "dxreg,dyreg,areareg = ogg.spherical_metrics(xreg, yreg, Re=Re)"
   ]
  },
  {
   "cell_type": "code",
   "execution_count": 9,
   "metadata": {},
   "outputs": [
    {
     "name": "stdout",
     "output_type": "stream",
     "text": [
      "Generating bipolar grid bounded at latitude  64.86719305598032\n",
      "   number of js= 239\n",
      "xbp.shape,ybp.shape = (239, 1441) (239, 1441)\n"
     ]
    }
   ],
   "source": [
    "# Bi-polar cap\n",
    "xbp,ybp,dxbp,dybp = ogg.generate_bipolar_cap_mesh(1440, 238, yreg[-1], -300.)#, ensure_nj_even=False)\n",
    "print( 'xbp.shape,ybp.shape =', ybp.shape, ybp.shape)"
   ]
  },
  {
   "cell_type": "code",
   "execution_count": 10,
   "metadata": {},
   "outputs": [],
   "source": [
    "# Metrics for bi-polar cap\n",
    "dxbp,dybp,areabp = ogg.numerical_metrics(xbp, ybp, Re=Re)"
   ]
  },
  {
   "cell_type": "code",
   "execution_count": 11,
   "metadata": {},
   "outputs": [
    {
     "name": "stdout",
     "output_type": "stream",
     "text": [
      "lon.shape, lat.shape = (1153, 1441) (1153, 1441)\n",
      "dx.shape, dy.shape, area.shape, angle.shape = (1153, 1440) (1152, 1441) (1152, 1440) (1153, 1441)\n"
     ]
    }
   ],
   "source": [
    "# Render the regular grid into a 2D mesh\n",
    "lon,lat = numpy.meshgrid(xreg, yreg)\n",
    "# Join it all together\n",
    "lon = numpy.concatenate( (lon, xbp[1:,:]) )\n",
    "lat = numpy.concatenate( (lat, ybp[1:,:]) )\n",
    "print('lon.shape, lat.shape =', lon.shape, lat.shape)\n",
    "dx = numpy.concatenate( (dxreg, dxbp[1:,:]))\n",
    "dy = numpy.concatenate( (dyreg, dybp))\n",
    "area = numpy.concatenate( (areareg, areabp))\n",
    "angle = ogg.angle_x(lon, lat)\n",
    "print('dx.shape, dy.shape, area.shape, angle.shape =', dx.shape, dy.shape, area.shape, angle.shape)"
   ]
  },
  {
   "cell_type": "code",
   "execution_count": 12,
   "metadata": {},
   "outputs": [
    {
     "name": "stdout",
     "output_type": "stream",
     "text": [
      "   Writing netcdf file with ny,nx=  1152 1440\n"
     ]
    }
   ],
   "source": [
    "ogg.write_nc(lon, lat, dx, dy, area, angle, fnam=\"ocean_hgrid_OM4p5.nc\", no_changing_meta=True)"
   ]
  }
 ],
 "metadata": {
  "kernelspec": {
   "display_name": "Python 3",
   "language": "python",
   "name": "python3"
  },
  "language_info": {
   "codemirror_mode": {
    "name": "ipython",
    "version": 3
   },
   "file_extension": ".py",
   "mimetype": "text/x-python",
   "name": "python",
   "nbconvert_exporter": "python",
   "pygments_lexer": "ipython3",
   "version": "3.6.7"
  }
 },
 "nbformat": 4,
 "nbformat_minor": 2
}
