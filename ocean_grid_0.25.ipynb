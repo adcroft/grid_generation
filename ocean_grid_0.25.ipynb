{
 "cells": [
  {
   "cell_type": "markdown",
   "metadata": {},
   "source": [
    "# Generating the Mercator grid for 1/4 degree ocean"
   ]
  },
  {
   "cell_type": "code",
   "execution_count": 1,
   "metadata": {},
   "outputs": [
    {
     "data": {
      "application/javascript": [
       "MathJax.Hub.Config({\n",
       "    TeX: { equationNumbers: { autoNumber: \"AMS\" } }\n",
       "});"
      ],
      "text/plain": [
       "<IPython.core.display.Javascript object>"
      ]
     },
     "metadata": {},
     "output_type": "display_data"
    }
   ],
   "source": [
    "%%javascript\n",
    "MathJax.Hub.Config({\n",
    "    TeX: { equationNumbers: { autoNumber: \"AMS\" } }\n",
    "});"
   ]
  },
  {
   "cell_type": "markdown",
   "metadata": {},
   "source": [
    "# Mercator projection\n",
    "\n",
    "\n",
    "For a given $(longitude,latitude) = (\\lambda, \\phi)$ the isotropic Mercator projection can be written as:  \n",
    "$$\\begin{equation}\n",
    "y = M(\\phi) = R \\ln \\left[ 1+\\sin\\phi \\over \\cos\\phi \\right].  \n",
    "\\end{equation}$$\n",
    "The corresponding inverse function can be written as:\n",
    "$$\\begin{equation}\n",
    "\\phi = M^{-1}(y) = \\tan^{-1}\\left(\\sinh(y/R)\\right).\n",
    "\\end{equation}$$\n",
    "\n",
    "Here $R$ is called the representative fraction (RF) or the principal scale of the projection (in units of the radius of the (isotropic) Earth $a_E$). E.g., to project the earth surface to a rectangular map of width $L$ one can use a principal scale of $L/(2\\pi a_{E})$ (which corresponds to a \"globe\" of radius $L/2\\pi$.)\n",
    "\n",
    "These are one of a few equivalent analytic forms of the projection function. For an overview and more information refer to [https://en.wikipedia.org/wiki/Mercator_projection](the wikipedia).\n",
    "\n",
    "\n",
    "# Defining a Mercator grid\n",
    "\n",
    "\n",
    "We want to generate an isotropic Mercator grid corresponding to a 1/4 degree resolution at the equator. Here are the defining parameters of our super-grid:\n",
    "\n",
    " \n",
    "1. The grid cell resolution in longitude direction $\\Delta \\lambda = {1/8}^\\circ $.  \n",
    "2. The grid cell resolution in latitude  direction shall be the same as in longitude direction at the equator $\\Delta \\phi(\\phi=0) = \\Delta \\lambda$. \n",
    "\n",
    "So:\n",
    "  \n",
    "1. To achieve 1. above we partition the equator to $N_x$ intervals. The condition 1. above fixes $N_x=2880$ , since  $\\Delta \\lambda = (1/8)(\\pi/180) = {2\\pi\\over N_x}$.\n",
    "2. To achieve 2. above we need to calculate $\\Delta y$ given $\\Delta \\phi$:\n",
    "$$\\begin{equation*}\n",
    "\\Delta \\phi = \\Delta y \\left. ({d\\phi \\over dy}) \\right|_{y=0} = \\Delta y {1\\over R} {\\cosh(y/R) \\over 1+\\sinh^2(y/R)} |_{y=0} = {\\Delta y \\over R}\n",
    "\\end{equation*}$$\n",
    "\n",
    "Now 1. and 2. fix the value of the projection scale $R$ as follows:\n",
    "$$\\begin{equation}\n",
    "R = {\\Delta y \\over \\Delta \\phi}|_{y=0} = {\\Delta y \\over \\Delta \\lambda}|_{y=0} = {1 \\over (\\delta \\lambda /N_x)} = {N_x \\over 2\\pi}\n",
    "\\end{equation}$$\n",
    "\n",
    "\n",
    "Note that we treat $y$ as an index in the latitude direction $\\Delta y = \\Delta j =1 $!\n"
   ]
  },
  {
   "cell_type": "markdown",
   "metadata": {},
   "source": [
    "## Specification via approximate latitude bounds\n",
    "\n",
    "If we are given $Nx$, $\\tilde{\\Phi}_s$, $\\tilde{\\Phi}_n$ then:\n",
    "\\begin{align}\n",
    "R &= \\frac{Nx}{2\\pi} \\\\\n",
    "y_s &= {int} (\\tilde{\\Phi}_s) \\\\\n",
    "y_n &= {int} (\\tilde{\\Phi}_n)\n",
    "\\end{align}\n",
    "and\n",
    "\\begin{align}\n",
    "\\Phi_s &= \\Phi(y_s) \\\\\n",
    "\\Phi_n &= \\Phi(y_n)\n",
    "\\end{align}\n",
    "where $\\Phi_s \\neq \\tilde{\\Phi}_s$ and $\\Phi_n \\neq \\tilde{\\Phi}_n$"
   ]
  },
  {
   "cell_type": "code",
   "execution_count": 89,
   "metadata": {},
   "outputs": [
    {
     "name": "stdout",
     "output_type": "stream",
     "text": [
      "y*= [-672  624] nj= 1296\n",
      "Actual phi range: phi_s,phi_n= [-64.00422531  61.24769287]\n",
      "Grid = [-64.00422531 -63.94938346 -63.89443401 ...  61.12720664  61.18750733\n",
      "  61.24769287]\n"
     ]
    }
   ],
   "source": [
    "def y_mercator(Ni, phi):\n",
    "    R = Ni / (2 * np.pi)\n",
    "    return R * ( np.log( (1.0 + np.sin(phi) ) / np.cos(phi)) )\n",
    "def phi_mercator(Ni, y):\n",
    "    R = Ni / (2 * np.pi)\n",
    "    return np.arctan( np.sinh(y/R) ) * (180/np.pi) # Converted to degrees\n",
    "def y_mercator_rounded(Ni, phi):\n",
    "    y_float = y_mercator(Ni, phi)\n",
    "    return ( np.sign(y_float) * np.ceil( np.abs(y_float) ) ).astype(int)\n",
    "# Specify approximate latitude range\n",
    "#phi_s, phi_n = -64.00422531295267, 61.247692871618455\n",
    "phi_s, phi_n = -64, 61.24\n",
    "# Diagnose nearest integer y(phi range)\n",
    "y_star = y_mercator_rounded(2880, np.array([phi_s*np.pi/180,phi_n*np.pi/180]))\n",
    "print( 'y*=',y_star, 'nj=', y_star[1]-y_star[0] )\n",
    "print( 'Actual phi range: phi_s,phi_n=', phi_mercator(2880, y_star) )\n",
    "print( 'Grid =', phi_mercator(2880, np.arange(y_star[0],y_star[1]+1)) )"
   ]
  },
  {
   "cell_type": "code",
   "execution_count": 90,
   "metadata": {},
   "outputs": [
    {
     "data": {
      "text/plain": [
       "array([-64.00422531, -63.94938346, -63.89443401, ...,  61.12720664,\n",
       "        61.18750733,  61.24769287])"
      ]
     },
     "execution_count": 90,
     "metadata": {},
     "output_type": "execute_result"
    }
   ],
   "source": [
    "phi_mercator(2880, np.arange(-672,624+1))"
   ]
  },
  {
   "cell_type": "markdown",
   "metadata": {},
   "source": [
    "# Generating a Mercator grid via package MIDAS\n",
    "\n",
    "The code snippet below uses the MIDAS package to generate the Mercator grid. We first want to study the calls in this package to find out how MIDAS has been generating the grids. Note that this \"import\"s a class that was isolated from original MIDAS, hence we call it \"pymidas\" to distinguish it from the whole package. This is a small fraction of MIDAS and is pure Python.\n",
    "\n",
    "Note: I am generating this notebook with anaconda Python 3 on my workstation. \n",
    "\n",
    "First let's take a look at the grid generated straight from pymidas for a given longitude (since the grid is homogeneous in x direction)."
   ]
  },
  {
   "cell_type": "code",
   "execution_count": 72,
   "metadata": {},
   "outputs": [
    {
     "name": "stdout",
     "output_type": "stream",
     "text": [
      "constructing a mercator supergrid with (ny,nx) =  1296 2880\n",
      "nominal starting lat and starting longitude = -65.0 -300.0\n",
      "and nominal width in latitude =  125.0\n",
      "mercator max/min latitude= 61.247692871618455 -64.00422531295267\n",
      "mercator nj,ni= 1296 2880\n",
      "mercator starting longitude= -300.0\n",
      "mercator ending longitude= 60.0\n",
      "mercator start/end longitudes= -64.00422531295267 61.247692871618455\n"
     ]
    }
   ],
   "source": [
    "from pymidas.rectgrid_gen import supergrid\n",
    "import numpy as np\n",
    "\n",
    "refine=2  # Set to 2 for GIS_025 grid and 4 for GIS_0125\n",
    "lat0=-65.0 # This is a nominal starting latitude for Mercator grid\n",
    "lon0=-300. # Starting longitude\n",
    "lenlat=125. # nominal latitude range of Mercator grid\n",
    "lenlon=360. \n",
    "nx=1440*refine\n",
    "ny=1296 #700*refine\n",
    "\n",
    "#### Begin Mercator Grid\n",
    "\n",
    "print ('constructing a mercator supergrid with (ny,nx) = ',ny,nx)\n",
    "print ('nominal starting lat and starting longitude =',lat0, lon0)\n",
    "print ('and nominal width in latitude = ',lenlat)\n",
    "\n",
    "mercator=supergrid(nxtot=nx,xstart=lon0,lenx=lenlon,\n",
    "                   nytot=ny,ystart=lat0,leny=lenlat,\n",
    "                   config='mercator',axis_units='degrees',cyclic_x=True)\n",
    "\n",
    "mercator.grid_metrics()\n",
    "mercator.write_nc('mercator_supergrid.nc')\n",
    "\n",
    "print (\"mercator max/min latitude=\", mercator.y.max(),mercator.y.min())\n",
    "print (\"mercator nj,ni=\", mercator.y.shape[0]-1,mercator.y.shape[1]-1)\n",
    "print (\"mercator starting longitude=\",mercator.x[0,0])\n",
    "print (\"mercator ending longitude=\",mercator.x[0,-1])\n",
    "\n",
    "print(\"mercator start/end longitudes=\",mercator.y[0,0],mercator.y[-1,0])"
   ]
  },
  {
   "cell_type": "code",
   "execution_count": 32,
   "metadata": {},
   "outputs": [],
   "source": [
    "import matplotlib.pyplot as plt"
   ]
  },
  {
   "cell_type": "code",
   "execution_count": 4,
   "metadata": {},
   "outputs": [
    {
     "data": {
      "image/png": "[encoded data removed]",
      "text/plain": [
       "<Figure size 432x288 with 1 Axes>"
      ]
     },
     "metadata": {},
     "output_type": "display_data"
    }
   ],
   "source": [
    "plt.plot( mercator.y[:,0], '.');\n",
    "for j in np.arange(0,ny+1,100):\n",
    "    plt.plot([0,1400],[mercator.y[j,0],mercator.y[j,0]],linestyle='dashed',color='black')"
   ]
  },
  {
   "cell_type": "markdown",
   "metadata": {},
   "source": [
    "Or in terms of latitude degrees rather than the y-index."
   ]
  },
  {
   "cell_type": "code",
   "execution_count": 5,
   "metadata": {},
   "outputs": [
    {
     "data": {
      "image/png": "[encoded data removed]",
      "text/plain": [
       "<Figure size 432x288 with 1 Axes>"
      ]
     },
     "metadata": {},
     "output_type": "display_data"
    }
   ],
   "source": [
    "import seaborn as sns; sns.set()\n",
    "PI_180 = np.pi/180.\n",
    "y0=lat0\n",
    "geo_lat=np.zeros(ny+1)\n",
    "for j in np.arange(ny+1):\n",
    "    geo_lat[j] = y0 + j * lenlat/ny\n",
    "plt.plot(geo_lat, mercator.y[:,0], '.');\n",
    "\n",
    "for j in np.arange(0,ny+1,100):\n",
    "    plt.plot([-65,65],[mercator.y[j,0],mercator.y[j,0]],linestyle='dashed',color='black')"
   ]
  },
  {
   "cell_type": "markdown",
   "metadata": {},
   "source": [
    "Notice that at first glance this y-grid is unlike what one expects from a \"Mercator projection\". A Mercator projection (equation 1) is supposed to get stretched (and diverge) as we move towards the poles giving rise to the famous illusion of the Greenland and Antarctica being bigger than Africa (which in fact they are only a fraction of). This is not the fault of the software, we are looking at the wrong mapping! A Mercator map is not the same as a Mercator grid, in fact they have an inverse map relation. The above figure is a representation of equation 2. "
   ]
  },
  {
   "cell_type": "markdown",
   "metadata": {},
   "source": [
    "# Southern Ocean spherical grid"
   ]
  },
  {
   "cell_type": "markdown",
   "metadata": {},
   "source": [
    "## MIDAS"
   ]
  },
  {
   "cell_type": "code",
   "execution_count": 12,
   "metadata": {},
   "outputs": [
    {
     "name": "stdout",
     "output_type": "stream",
     "text": [
      "constructing a spherical supergrid with (ny,nx) =  1400 2880\n",
      "nominal starting lat and starting longitude = -65.0 -300.0\n",
      "and nominal width in latitude =  125.0\n",
      "antarctic spherical max/min latitude= -66.85954724706843 -78.0\n",
      "spherical nj,ni= 220 2880\n",
      "spherical starting longitude= -300.0\n",
      "spherical ending longitude= 60.0\n"
     ]
    }
   ],
   "source": [
    "from pymidas.rectgrid_gen import supergrid\n",
    "import numpy as np\n",
    "refine=2  # Set to 2 for GIS_025 grid and 4 for GIS_0125\n",
    "lat0=-65.0 # This is a nominal starting latitude for Mercator grid\n",
    "lon0=-300. # Starting longitude\n",
    "lenlat=125. # nominal latitude range of Mercator grid\n",
    "lenlon=360. \n",
    "nx=1440*refine\n",
    "ny=700*refine\n",
    "ny2=110*refine\n",
    "lat0_sp=-78.0\n",
    "\n",
    "#### Begin Spherical Grid for Southern Ocean\n",
    "print ('constructing a spherical supergrid with (ny,nx) = ',ny,nx)\n",
    "print ('nominal starting lat and starting longitude =',lat0, lon0)\n",
    "print ('and nominal width in latitude = ',lenlat)\n",
    "spherical=supergrid(nx,ny2,'spherical','degrees',lat0_sp,mercator.y.min()-lat0_sp,lon0,lenlon,cyclic_x=True)\n",
    "spherical.grid_metrics()\n",
    "spherical.write_nc('antarctic_spherical_supergrid.nc')\n",
    "print (\"antarctic spherical max/min latitude=\", spherical.y.max(),spherical.y.min())\n",
    "print (\"spherical nj,ni=\", spherical.y.shape[0]-1,spherical.y.shape[1]-1)\n",
    "print (\"spherical starting longitude=\",spherical.x[0,0])\n",
    "print (\"spherical ending longitude=\",spherical.x[0,-1])\n"
   ]
  },
  {
   "cell_type": "code",
   "execution_count": 13,
   "metadata": {},
   "outputs": [
    {
     "data": {
      "image/png": "[encoded data removed]",
      "text/plain": [
       "<Figure size 432x288 with 1 Axes>"
      ]
     },
     "metadata": {},
     "output_type": "display_data"
    }
   ],
   "source": [
    "plt.plot( spherical.y[:,0], '.');"
   ]
  },
  {
   "cell_type": "markdown",
   "metadata": {},
   "source": [
    "## Simple line"
   ]
  },
  {
   "cell_type": "code",
   "execution_count": 14,
   "metadata": {},
   "outputs": [
    {
     "data": {
      "image/png": "[encoded data removed]",
      "text/plain": [
       "<Figure size 432x288 with 1 Axes>"
      ]
     },
     "metadata": {},
     "output_type": "display_data"
    }
   ],
   "source": [
    "lenlat_sp = grid_y_mercator[0]-lat0_sp\n",
    "grid_y_sp = np.zeros(ny2+1)\n",
    "jindp_sp  = np.arange(ny2+1)\n",
    "grid_y_sp = lat0_sp+jindp_sp*lenlat_sp/ny2\n",
    "plt.plot( spherical.y[:,0] - grid_y_sp[:], '.',label=\"difference of MIDAS and formula\") ;\n",
    "plt.legend(loc=0);"
   ]
  },
  {
   "cell_type": "markdown",
   "metadata": {},
   "source": [
    "Note the difference is due to the difference between our formula generated starting latitude of Mercator grid grid_y_mercator[0] and MIDAS generated quantity mercator.y[0,0]"
   ]
  },
  {
   "cell_type": "code",
   "execution_count": 15,
   "metadata": {},
   "outputs": [
    {
     "name": "stdout",
     "output_type": "stream",
     "text": [
      "-66.9086213054936 -66.85954724706843\n"
     ]
    },
    {
     "data": {
      "image/png": "[encoded data removed]",
      "text/plain": [
       "<Figure size 432x288 with 1 Axes>"
      ]
     },
     "metadata": {},
     "output_type": "display_data"
    }
   ],
   "source": [
    "print(grid_y_mercator[0] , mercator.y[0,0])\n",
    "lenlat_sp = mercator.y[0,0]-lat0_sp\n",
    "grid_y_sp = np.zeros(ny2+1)\n",
    "jindp_sp  = np.arange(ny2+1)\n",
    "grid_y_sp = lat0_sp+jindp_sp*lenlat_sp/ny2\n",
    "plt.plot( spherical.y[:,0] - grid_y_sp[:], '.',label=\"difference of MIDAS and formula\") ;\n",
    "plt.legend(loc=0);"
   ]
  },
  {
   "cell_type": "markdown",
   "metadata": {},
   "source": [
    "Put together with the our Mercator it looks like this.\n",
    "\n",
    "Note: The arrays overlap at the joint!"
   ]
  },
  {
   "cell_type": "code",
   "execution_count": 16,
   "metadata": {},
   "outputs": [
    {
     "name": "stdout",
     "output_type": "stream",
     "text": [
      "end lattude of SouthernSP -66.85954724706843\n",
      "start lattude of Mercator -66.9086213054936\n"
     ]
    },
    {
     "data": {
      "image/png": "[encoded data removed]",
      "text/plain": [
       "<Figure size 432x288 with 1 Axes>"
      ]
     },
     "metadata": {},
     "output_type": "display_data"
    }
   ],
   "source": [
    "lenlat_sp = grid_y_mercator[0]-lat0_sp\n",
    "geo_lat=np.zeros(ny2+ny+3)\n",
    "\n",
    "for j in np.arange(ny2+1):\n",
    "    geo_lat[j] = lat0_sp + j * lenlat_sp/ny2\n",
    "\n",
    "for j in np.arange(1,ny+3):\n",
    "    geo_lat[ny2+j] = geo_lat[ny2] + j * lenlat/ny\n",
    "\n",
    "print(\"end lattude of SouthernSP\", grid_y_sp[-1])    \n",
    "print(\"start lattude of Mercator\", grid_y_mercator[0])    \n",
    "\n",
    "plt.plot(geo_lat[:ny2+1], grid_y_sp[:], 'o');\n",
    "plt.plot(geo_lat[ny2+2:], grid_y_mercator[:], '.');\n",
    "\n",
    "\n",
    "\n",
    "#plt.plot(geo_lat, mercator.y[:,0], '.');\n",
    "#plt.plot(geo_lat[:ny2+1], spherical.y[:,0], '.');\n",
    "#plt.plot(geo_lat[ny2+2:], mercator.y[:,0], '.');"
   ]
  },
  {
   "cell_type": "markdown",
   "metadata": {},
   "source": [
    "# Tripolar grid"
   ]
  },
  {
   "cell_type": "markdown",
   "metadata": {},
   "source": [
    "## MIDAS"
   ]
  },
  {
   "cell_type": "code",
   "execution_count": 17,
   "metadata": {},
   "outputs": [
    {
     "name": "stdout",
     "output_type": "stream",
     "text": [
      "generated a tripolar supergrid of size (ny,nx)=  238 2880\n",
      "tripolar grid starting longitude =  -300.0\n",
      "tripolar grid starting latitude =  64.0589597296948\n"
     ]
    }
   ],
   "source": [
    "refine=2  # Set to 2 for GIS_025 grid and 4 for GIS_0125\n",
    "lat0=-65.0 # This is a nominal starting latitude for Mercator grid\n",
    "lon0=-300. # Starting longitude\n",
    "lenlat=125. # nominal latitude range of Mercator grid\n",
    "lenlon=360. \n",
    "nx=1440*refine\n",
    "ny=700*refine\n",
    "\n",
    "ny_ncap=119*refine\n",
    "lat0_tp=mercator.y.max()\n",
    "dlat=90.0-lat0_tp\n",
    "tripolar_n=supergrid(nx,ny_ncap,'spherical','degrees',lat0_tp,dlat,lon0,360.,tripolar_n=True)\n",
    "tripolar_n.grid_metrics()\n",
    "tripolar_n.write_nc('ncap_supergrid.nc')\n",
    "print (\"generated a tripolar supergrid of size (ny,nx)= \",tripolar_n.y.shape[0]-1,tripolar_n.y.shape[1]-1)\n",
    "print (\"tripolar grid starting longitude = \",tripolar_n.x[0,0])\n",
    "print (\"tripolar grid starting latitude = \",tripolar_n.y[0,0])\n"
   ]
  },
  {
   "cell_type": "code",
   "execution_count": 20,
   "metadata": {},
   "outputs": [
    {
     "data": {
      "image/png": "[encoded data removed]",
      "text/plain": [
       "<Figure size 432x288 with 1 Axes>"
      ]
     },
     "metadata": {},
     "output_type": "display_data"
    }
   ],
   "source": [
    "plt.plot( tripolar_n.y[:,0], '.');\n",
    "plt.plot( tripolar_n.y[:,10], '.');"
   ]
  },
  {
   "cell_type": "code",
   "execution_count": null,
   "metadata": {},
   "outputs": [],
   "source": []
  }
 ],
 "metadata": {
  "anaconda-cloud": {},
  "kernelspec": {
   "display_name": "Python [default]",
   "language": "python",
   "name": "python3"
  },
  "language_info": {
   "codemirror_mode": {
    "name": "ipython",
    "version": 3
   },
   "file_extension": ".py",
   "mimetype": "text/x-python",
   "name": "python",
   "nbconvert_exporter": "python",
   "pygments_lexer": "ipython3",
   "version": "3.5.5"
  }
 },
 "nbformat": 4,
 "nbformat_minor": 2
}
