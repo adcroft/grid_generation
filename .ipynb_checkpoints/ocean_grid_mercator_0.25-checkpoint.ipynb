{
 "cells": [
  {
   "cell_type": "markdown",
   "metadata": {},
   "source": [
    "# Generating the Mercator grid for 1/4 degree ocean"
   ]
  },
  {
   "cell_type": "code",
   "execution_count": 1,
   "metadata": {},
   "outputs": [
    {
     "data": {
      "application/javascript": [
       "MathJax.Hub.Config({\n",
       "    TeX: { equationNumbers: { autoNumber: \"AMS\" } }\n",
       "});"
      ],
      "text/plain": [
       "<IPython.core.display.Javascript object>"
      ]
     },
     "metadata": {},
     "output_type": "display_data"
    }
   ],
   "source": [
    "%%javascript\n",
    "MathJax.Hub.Config({\n",
    "    TeX: { equationNumbers: { autoNumber: \"AMS\" } }\n",
    "});"
   ]
  },
  {
   "cell_type": "markdown",
   "metadata": {},
   "source": [
    "# Mercator projection\n",
    "\n",
    "\n",
    "For a given $(longitude,latitude) = (\\lambda, \\phi)$ the isotropic Mercator projection can be written as:  \n",
    "$$\\begin{equation}\n",
    "y = M(\\phi) = R \\ln \\left[ 1+\\sin\\phi \\over \\cos\\phi \\right].  \n",
    "\\end{equation}$$\n",
    "The corresponding inverse function can be written as:\n",
    "$$\\begin{equation}\n",
    "\\phi = M^{-1}(y) = \\tan^{-1}\\left(\\sinh(y/R)\\right).\n",
    "\\end{equation}$$\n",
    "\n",
    "Here $R$ is called the representative fraction (RF) or the principal scale of the projection (in units of the radius of the (isotropic) Earth $a_E$). E.g., to project the earth surface to a rectangular map of width $L$ one can use a principal scale of $L/(2\\pi a_{E})$ (which corresponds to a \"globe\" of radius $L/2\\pi$.)\n",
    "\n",
    "These are one of a few equivalent analytic forms of the projection function. For an overview and more information refer to [https://en.wikipedia.org/wiki/Mercator_projection](the wikipedia).\n",
    "\n",
    "\n",
    "# Defining a Mercator grid\n",
    "\n",
    "\n",
    "We want to generate an isotropic Mercator grid corresponding to a 1/4 degree resolution at the equator. Here are the defining parameters of our super-grid:\n",
    "\n",
    " \n",
    "1. The equator centered grid cell resolution in longitude direction $\\Delta \\lambda = {1/8}^\\circ $.  \n",
    "2. The equator centered grid cell resolution in latitude  direction shall be $\\Delta \\phi = \\Delta \\lambda$. \n",
    "3. The grid in the y direction shall start at a given latitude e.g., $\\phi_0 = {-65}^\\circ$ and span a given amount northwards, e.g., $\\delta \\phi = {125}^\\circ$.\n",
    "\n",
    "So:\n",
    "  \n",
    "1. To achieve 1. above we partition the equator to $N_x$ intervals. The condition 1. above fixes $N_x=2880$ , since  $\\Delta \\lambda = (1/8)(\\pi/180) = {2\\pi\\over N_x}$.\n",
    "2. To achieve 2. above we need to calculate $\\Delta y$ given $\\Delta \\phi$:\n",
    "$$\\begin{equation*}\n",
    "\\Delta \\phi = \\Delta y \\left. ({d\\phi \\over dy}) \\right|_{y=0} = \\Delta y {1\\over R} {\\cosh(y/R)\\over 1+\\sinh^2(y/R)} |_{y=0} = {\\Delta y \\over R}\n",
    "\\end{equation*}$$\n",
    "3. To achieve 3. above we partition the interval $\\delta \\phi$ into $N_y$ intervals so that $\\Delta\\phi = \\delta \\phi /N_y$. \n",
    "\n",
    "\n",
    "Now 2. and 3. fix the value of the representative fraction $R$ as follows:\n",
    "$$\\begin{equation}\n",
    "R = {\\Delta y \\over \\Delta \\phi}|_{y=0} = {\\Delta y \\over \\Delta \\lambda}|_{y=0} = {(\\delta \\phi/N_y) \\over (\\delta \\lambda /N_x)} = {(N_x/\\delta \\lambda) \\over (N_y/\\delta \\phi)} = {2880/360 \\over N_y/125}\n",
    "\\end{equation}$$\n",
    "\n",
    "\n",
    "Note that in the above formula for $R$ the number of latitudinal partitions $N_y$ is as yet arbitrary!\n"
   ]
  },
  {
   "cell_type": "markdown",
   "metadata": {},
   "source": [
    "# Generating a Mercator grid via package MIDAS\n",
    "\n",
    "The code snippet below uses the MIDAS package to generate the Mercator grid. We first want to study the calls in this package to find out how MIDAS has been generating the grids. Note that this \"import\"s a class that was isolated from original MIDAS, hence we call it \"pymidas\" to distinguish it from the whole package. This is a small fraction of MIDAS and is pure Python.\n",
    "\n",
    "Note: I am generating this notebook with anaconda Python 3 on my workstation. \n",
    "\n",
    "First let's take a look at the grid generated straight from pymidas for a given longitude (since the grid is homogeneous in x direction)."
   ]
  },
  {
   "cell_type": "code",
   "execution_count": 72,
   "metadata": {},
   "outputs": [
    {
     "name": "stdout",
     "output_type": "stream",
     "text": [
      "constructing a mercator supergrid with (ny,nx) =  1296 2880\n",
      "nominal starting lat and starting longitude = -65.0 -300.0\n",
      "and nominal width in latitude =  125.0\n",
      "mercator max/min latitude= 61.247692871618455 -64.00422531295267\n",
      "mercator nj,ni= 1296 2880\n",
      "mercator starting longitude= -300.0\n",
      "mercator ending longitude= 60.0\n",
      "mercator start/end longitudes= -64.00422531295267 61.247692871618455\n"
     ]
    }
   ],
   "source": [
    "from pymidas.rectgrid_gen import supergrid\n",
    "import numpy as np\n",
    "\n",
    "refine=2  # Set to 2 for GIS_025 grid and 4 for GIS_0125\n",
    "lat0=-65.0 # This is a nominal starting latitude for Mercator grid\n",
    "lon0=-300. # Starting longitude\n",
    "lenlat=125. # nominal latitude range of Mercator grid\n",
    "lenlon=360. \n",
    "nx=1440*refine\n",
    "ny=1296 #700*refine\n",
    "\n",
    "#### Begin Mercator Grid\n",
    "\n",
    "print ('constructing a mercator supergrid with (ny,nx) = ',ny,nx)\n",
    "print ('nominal starting lat and starting longitude =',lat0, lon0)\n",
    "print ('and nominal width in latitude = ',lenlat)\n",
    "\n",
    "mercator=supergrid(nxtot=nx,xstart=lon0,lenx=lenlon,\n",
    "                   nytot=ny,ystart=lat0,leny=lenlat,\n",
    "                   config='mercator',axis_units='degrees',cyclic_x=True)\n",
    "\n",
    "mercator.grid_metrics()\n",
    "mercator.write_nc('mercator_supergrid.nc')\n",
    "\n",
    "print (\"mercator max/min latitude=\", mercator.y.max(),mercator.y.min())\n",
    "print (\"mercator nj,ni=\", mercator.y.shape[0]-1,mercator.y.shape[1]-1)\n",
    "print (\"mercator starting longitude=\",mercator.x[0,0])\n",
    "print (\"mercator ending longitude=\",mercator.x[0,-1])\n",
    "\n",
    "print(\"mercator start/end longitudes=\",mercator.y[0,0],mercator.y[-1,0])"
   ]
  },
  {
   "cell_type": "markdown",
   "metadata": {},
   "source": [
    "## Specification via approximate latitude bounds\n",
    "\n",
    "If we are given $Nx$, $\\tilde{\\Phi}_s$, $\\tilde{\\Phi}_n$ then:\n",
    "\\begin{align}\n",
    "R &= \\frac{Nx}{2\\pi} \\\\\n",
    "y_s &= {int} (\\tilde{\\Phi}_s) \\\\\n",
    "y_n &= {int} (\\tilde{\\Phi}_n)\n",
    "\\end{align}\n",
    "and\n",
    "\\begin{align}\n",
    "\\Phi_s &= \\Phi(y_s) \\\\\n",
    "\\Phi_n &= \\Phi(y_n)\n",
    "\\end{align}\n",
    "where $\\Phi_s \\neq \\tilde{\\Phi}_s$ and $\\Phi_n \\neq \\tilde{\\Phi}_n$"
   ]
  },
  {
   "cell_type": "code",
   "execution_count": 89,
   "metadata": {},
   "outputs": [
    {
     "name": "stdout",
     "output_type": "stream",
     "text": [
      "y*= [-672  624] nj= 1296\n",
      "Actual phi range: phi_s,phi_n= [-64.00422531  61.24769287]\n",
      "Grid = [-64.00422531 -63.94938346 -63.89443401 ...  61.12720664  61.18750733\n",
      "  61.24769287]\n"
     ]
    }
   ],
   "source": [
    "def y_mercator(Ni, phi):\n",
    "    R = Ni / (2 * np.pi)\n",
    "    return R * ( np.log( (1.0 + np.sin(phi) ) / np.cos(phi)) )\n",
    "def phi_mercator(Ni, y):\n",
    "    R = Ni / (2 * np.pi)\n",
    "    return np.arctan( np.sinh(y/R) ) * (180/np.pi) # Converted to degrees\n",
    "def y_mercator_rounded(Ni, phi):\n",
    "    y_float = y_mercator(Ni, phi)\n",
    "    return ( np.sign(y_float) * np.ceil( np.abs(y_float) ) ).astype(int)\n",
    "# Specify approximate latitude range\n",
    "#phi_s, phi_n = -64.00422531295267, 61.247692871618455\n",
    "phi_s, phi_n = -64, 61.24\n",
    "# Diagnose nearest integer y(phi range)\n",
    "y_star = y_mercator_rounded(2880, np.array([phi_s*np.pi/180,phi_n*np.pi/180]))\n",
    "print( 'y*=',y_star, 'nj=', y_star[1]-y_star[0] )\n",
    "print( 'Actual phi range: phi_s,phi_n=', phi_mercator(2880, y_star) )\n",
    "print( 'Grid =', phi_mercator(2880, np.arange(y_star[0],y_star[1]+1)) )"
   ]
  },
  {
   "cell_type": "code",
   "execution_count": 90,
   "metadata": {},
   "outputs": [
    {
     "data": {
      "text/plain": [
       "array([-64.00422531, -63.94938346, -63.89443401, ...,  61.12720664,\n",
       "        61.18750733,  61.24769287])"
      ]
     },
     "execution_count": 90,
     "metadata": {},
     "output_type": "execute_result"
    }
   ],
   "source": [
    "phi_mercator(2880, np.arange(-672,624+1))"
   ]
  },
  {
   "cell_type": "code",
   "execution_count": 32,
   "metadata": {},
   "outputs": [],
   "source": [
    "import matplotlib.pyplot as plt"
   ]
  },
  {
   "cell_type": "code",
   "execution_count": 4,
   "metadata": {},
   "outputs": [
    {
     "data": {
      "image/png": "[encoded data removed]",
      "text/plain": [
       "<Figure size 432x288 with 1 Axes>"
      ]
     },
     "metadata": {},
     "output_type": "display_data"
    }
   ],
   "source": [
    "plt.plot( mercator.y[:,0], '.');\n",
    "for j in np.arange(0,ny+1,100):\n",
    "    plt.plot([0,1400],[mercator.y[j,0],mercator.y[j,0]],linestyle='dashed',color='black')"
   ]
  },
  {
   "cell_type": "markdown",
   "metadata": {},
   "source": [
    "Or in terms of latitude degrees rather than the y-index."
   ]
  },
  {
   "cell_type": "code",
   "execution_count": 5,
   "metadata": {},
   "outputs": [
    {
     "data": {
      "image/png": "[encoded data removed]",
      "text/plain": [
       "<Figure size 432x288 with 1 Axes>"
      ]
     },
     "metadata": {},
     "output_type": "display_data"
    }
   ],
   "source": [
    "import seaborn as sns; sns.set()\n",
    "PI_180 = np.pi/180.\n",
    "y0=lat0\n",
    "geo_lat=np.zeros(ny+1)\n",
    "for j in np.arange(ny+1):\n",
    "    geo_lat[j] = y0 + j * lenlat/ny\n",
    "plt.plot(geo_lat, mercator.y[:,0], '.');\n",
    "\n",
    "for j in np.arange(0,ny+1,100):\n",
    "    plt.plot([-65,65],[mercator.y[j,0],mercator.y[j,0]],linestyle='dashed',color='black')"
   ]
  },
  {
   "cell_type": "markdown",
   "metadata": {},
   "source": [
    "Notice that at first glance this y-grid is unlike what one expects from a \"Mercator projection\". A Mercator projection (equation 1) is supposed to get stretched (and diverge) as we move towards the poles giving rise to the famous illusion of the Greenland and Antarctica being bigger than Africa (which in fact they are only a fraction of). This is not the fault of the software, we are looking at the wrong mapping! A Mercator map is not the same as a Mercator grid, in fact they have an inverse map relation. The above figure is a representation of equation 2. "
   ]
  },
  {
   "cell_type": "markdown",
   "metadata": {},
   "source": [
    "# Generating a Mercator grid from equations (ab initio)"
   ]
  },
  {
   "cell_type": "markdown",
   "metadata": {},
   "source": [
    "First let's make sure we can reproduce the MIDAS package function Int_dj_dy with the Mercator projection equation 1."
   ]
  },
  {
   "cell_type": "code",
   "execution_count": 6,
   "metadata": {},
   "outputs": [
    {
     "name": "stdout",
     "output_type": "stream",
     "text": [
      "Mercator projection scale used by MIDAS  458.3662361046586\n"
     ]
    },
    {
     "data": {
      "text/plain": [
       "<matplotlib.legend.Legend at 0x2aee2e057240>"
      ]
     },
     "execution_count": 6,
     "metadata": {},
     "output_type": "execute_result"
    },
    {
     "data": {
      "image/png": "[encoded data removed]",
      "text/plain": [
       "<Figure size 432x288 with 1 Axes>"
      ]
     },
     "metadata": {},
     "output_type": "display_data"
    }
   ],
   "source": [
    "PI_180 = np.pi/180.\n",
    "y0=lat0*PI_180\n",
    "int_dj_dy_=np.zeros(ny+1)\n",
    "geo_lat=np.zeros(ny+1)\n",
    "merc_lat=np.zeros(ny+1)\n",
    "Intdjdy=np.zeros(ny+1)\n",
    "\n",
    "IC0 = nx/lenlon/PI_180 #This is nx/2pi for global grid\n",
    "\n",
    "R = IC0 #Mercator projection scale\n",
    "print(\"Mercator projection scale used by MIDAS \",R)\n",
    "for j in np.arange(ny+1):\n",
    "    y = y0 + j* PI_180 * lenlat/ny\n",
    "    #This is the formula for the function Int_dj_dy used in MIDAS/rectgrid_gen.py\n",
    "    #There is no need for splitting the function in two pieces depending on sgn(y) as is done in MIDAS!\n",
    "#    if(y >= 0.0):\n",
    "#        int_dj_dy_[j]= R*(np.log((1.0+np.sin(y))/np.cos(y)))\n",
    "#    else:\n",
    "#        int_dj_dy_[j]=-R*(np.log((1.0-np.sin(y))/np.cos(y)))\n",
    "\n",
    "    #This is calling the MIDAS function Int_dj_dy directly\n",
    "    Intdjdy[j]=mercator.Int_dj_dy(y) \n",
    "    \n",
    "    #The following is the formula for Mercator projection equation(1)\n",
    "    #where R is the scale factor of the projection \n",
    "    merc_lat[j]=R*(np.log((1.0+np.sin(y))/np.cos(y))) \n",
    "    geo_lat[j] = y / PI_180\n",
    "\n",
    "plt.plot(geo_lat,Intdjdy,    '.',label=\"MIDAS function In_dj_dy directly\")        \n",
    "#plt.plot(geo_lat,int_dj_dy_, '.',label=\"MIDAS function In_dj_dy copied\")        \n",
    "plt.plot(geo_lat,merc_lat,   '.',label=\"Mercator formula\")        \n",
    "plt.legend(loc=0)\n",
    "\n"
   ]
  },
  {
   "cell_type": "markdown",
   "metadata": {},
   "source": [
    "The graphs are on top of each other. So, it seems MIDAS is setting the scale of the projection equal to \n",
    "$N_x/\\delta\\lambda$ rather than what we found in eq(3) above ${N_x/\\delta\\lambda \\over N_y/\\delta\\phi}$. \n",
    "However, this has no effect on the inverse function calculation via the root finder and MIDAS still finds the correct inverse projection. Why?"
   ]
  },
  {
   "cell_type": "code",
   "execution_count": 7,
   "metadata": {},
   "outputs": [
    {
     "name": "stdout",
     "output_type": "stream",
     "text": [
      "MIDAS -61.65247844908551 53.8972352072978\n",
      "formu -61.652478449085486 53.89723520729779\n",
      "MIDAS 0.0 0.06377553601608375\n",
      "formu 0.0 0.06377553601608375\n",
      "1.0000000000000004\n",
      "1.0000000000000002\n"
     ]
    },
    {
     "data": {
      "image/png": "[encoded data removed]",
      "text/plain": [
       "<Figure size 432x288 with 1 Axes>"
      ]
     },
     "metadata": {},
     "output_type": "display_data"
    }
   ],
   "source": [
    "###specified parameters of the Mercator grid\n",
    "lat0=-65.0  #starting latitude (on the Mercator grid)\n",
    "lenlat=125. # nominal latitude range of Mercator grid\n",
    "lenlon=360. # nominal longitude range of Mercator grid\n",
    "refine = 2\n",
    "nx=1440*refine  # number of grid points in x direction\n",
    "ny=700*refine   # number of grid points in y direction\n",
    "PI_180 = np.pi/180.\n",
    "y0=lat0*PI_180\n",
    "\n",
    "#IC0 = nx/lenlon/PI_180= (ny/lenlat)*R(in degrees)\n",
    "R=((nx/lenlon)/(ny/lenlat))\n",
    "grid_y=np.zeros(ny+1)\n",
    "for j in np.arange(ny+1):\n",
    "    y = y0 + j* PI_180 * lenlat/ny\n",
    "    grid_y[j] = R*(np.log((1.0+np.sin(y))/np.cos(y))) / PI_180\n",
    "    Intdjdy[j]=mercator.Int_dj_dy(y) / (ny/lenlat)\n",
    "    \n",
    "plt.plot(geo_lat, grid_y , '.',label=\"Mercator formula\")\n",
    "plt.plot(geo_lat, Intdjdy, '.',label=\"MIDAS function Int_dj_dy / (ny/lenlat)\")\n",
    "plt.plot(geo_lat, Intdjdy-grid_y,label=\"diff\")\n",
    "plt.legend(loc=0)\n",
    "\n",
    "print(\"MIDAS\",Intdjdy[0],Intdjdy[-1])\n",
    "print(\"formu\",grid_y[0],grid_y[-1])\n",
    "print(\"MIDAS\",Intdjdy[728],Intdjdy[729])\n",
    "print(\"formu\",grid_y[728],grid_y[729])\n",
    "\n",
    "print(Intdjdy[0]/grid_y[0])\n",
    "print(Intdjdy[-1]/grid_y[-1])"
   ]
  },
  {
   "cell_type": "markdown",
   "metadata": {},
   "source": [
    "This is the function M we have to invert to produce a Mercator grid. (Why? Is that a totally obvious fact? Find a convincing argument.) And that is what MIDAS tries to do via a root finder (i.e., solve $y=M(\\phi)$ for $\\phi$ given $y$).\n"
   ]
  },
  {
   "cell_type": "markdown",
   "metadata": {},
   "source": [
    "Now let's compare the grids produced from Eq(2) and the one by MIDAS (via root finder)."
   ]
  },
  {
   "cell_type": "code",
   "execution_count": 8,
   "metadata": {},
   "outputs": [
    {
     "data": {
      "image/png": "[encoded data removed]",
      "text/plain": [
       "<Figure size 432x288 with 1 Axes>"
      ]
     },
     "metadata": {},
     "output_type": "display_data"
    }
   ],
   "source": [
    "R=(nx/lenlon)/(ny/lenlat)\n",
    "\n",
    "grid_y_mercator=np.zeros(ny+1)\n",
    "grid_midas_shifted=np.zeros(ny+1)\n",
    "for j in np.arange(ny+1):\n",
    "    y = y0 + j* PI_180 * lenlat/ny\n",
    "    grid_y_mercator[j] = np.arctan(np.sinh(y/R)) / PI_180\n",
    "\n",
    "#for j in np.arange(1,ny+1):\n",
    "#    grid_midas_shifted[j] = mercator.y[j-1,0]\n",
    "    \n",
    "plt.plot(geo_lat, grid_y_mercator, '.',label=\"Inverse Mercator formula\");\n",
    "plt.plot(geo_lat, mercator.y[:,0], '.',label=\"MIDAS y directly\");\n",
    "plt.plot(geo_lat, mercator.y[:,0]-grid_y_mercator,label=\"diff\");\n",
    "plt.legend(loc=0);\n",
    "\n"
   ]
  },
  {
   "cell_type": "markdown",
   "metadata": {},
   "source": [
    "The grids match, thought not bit-for-bit of course. Here's the difference"
   ]
  },
  {
   "cell_type": "code",
   "execution_count": 9,
   "metadata": {},
   "outputs": [
    {
     "data": {
      "image/png": "[encoded data removed]",
      "text/plain": [
       "<Figure size 432x288 with 1 Axes>"
      ]
     },
     "metadata": {},
     "output_type": "display_data"
    }
   ],
   "source": [
    "plt.plot(geo_lat, mercator.y[:,0]-grid_y_mercator,label=\"diff\");\n",
    "plt.legend(loc=0);"
   ]
  },
  {
   "cell_type": "markdown",
   "metadata": {},
   "source": [
    "\n",
    "\n",
    "Now print out some checks:"
   ]
  },
  {
   "cell_type": "code",
   "execution_count": 10,
   "metadata": {},
   "outputs": [
    {
     "name": "stdout",
     "output_type": "stream",
     "text": [
      "MIDAS equator dy 0.12499990084080814 0.12499990084080384\n",
      "Eq(2) equator dy 0.1249999008408066 0.1249999008408066\n",
      "\n",
      "MIDAS y straddling the equator\n",
      "0.3749973227271327 0.2499992067292401 0.12499990084080814 0.0 -0.12499990084080384 -0.2499992067292506\n",
      "Eq(2) y straddling the equator\n",
      "0.24999920672923703 0.1249999008408066 0.0 -0.1249999008408066 -0.24999920672925488 -0.3749973227271452\n"
     ]
    }
   ],
   "source": [
    "#Check dy matches between the two formulations\n",
    "\n",
    "print(\"MIDAS equator dy\", mercator.y[728,0]-mercator.y[727,0], mercator.y[727,0]-mercator.y[726,0])\n",
    "print(\"Eq(2) equator dy\", grid_y_mercator[729]-grid_y_mercator[728], grid_y_mercator[728]-grid_y_mercator[727])\n",
    "print(\"\")\n",
    "print(\"MIDAS y straddling the equator\")\n",
    "print(mercator.y[730,0],mercator.y[729,0], mercator.y[728,0], mercator.y[727,0], mercator.y[726,0], mercator.y[725,0])\n",
    "print(\"Eq(2) y straddling the equator\")\n",
    "print(grid_y_mercator[730], grid_y_mercator[729], grid_y_mercator[728], grid_y_mercator[727], grid_y_mercator[726], grid_y_mercator[725])\n"
   ]
  },
  {
   "cell_type": "markdown",
   "metadata": {},
   "source": [
    "Note: There is a slight problem with the array index for the inverse that MIDAS calculates (mercator.y[i,j]). As the direct projection above, the inverse too is supposed to be zero for the index 728 ($\\phi=0$) but the index seems to be one off, hence the strange shift in the y values above."
   ]
  },
  {
   "cell_type": "code",
   "execution_count": 11,
   "metadata": {
    "scrolled": false
   },
   "outputs": [
    {
     "name": "stdout",
     "output_type": "stream",
     "text": [
      " j     lat     M      M_inv\n",
      "729,  0.089,  0.064,  0.250\n",
      "728,  0.000,  0.000,  0.125\n",
      "727, -0.089, -0.064,  0.000\n",
      "726, -0.179, -0.128, -0.125\n"
     ]
    }
   ],
   "source": [
    "print(\" j     lat     M      M_inv\")\n",
    "for j in (729,728,727,726):\n",
    "    print('{:d},{:7.3f},{:7.3f},{:7.3f}'.format(j,geo_lat[j],Intdjdy[j], mercator.y[j,0]))"
   ]
  },
  {
   "cell_type": "markdown",
   "metadata": {},
   "source": [
    "Check if we invert MIDAS inverse with the Mercator projection formula we get identity"
   ]
  },
  {
   "cell_type": "markdown",
   "metadata": {},
   "source": [
    "# Southern Ocean spherical grid"
   ]
  },
  {
   "cell_type": "markdown",
   "metadata": {},
   "source": [
    "## MIDAS"
   ]
  },
  {
   "cell_type": "code",
   "execution_count": 12,
   "metadata": {},
   "outputs": [
    {
     "name": "stdout",
     "output_type": "stream",
     "text": [
      "constructing a spherical supergrid with (ny,nx) =  1400 2880\n",
      "nominal starting lat and starting longitude = -65.0 -300.0\n",
      "and nominal width in latitude =  125.0\n",
      "antarctic spherical max/min latitude= -66.85954724706843 -78.0\n",
      "spherical nj,ni= 220 2880\n",
      "spherical starting longitude= -300.0\n",
      "spherical ending longitude= 60.0\n"
     ]
    }
   ],
   "source": [
    "from pymidas.rectgrid_gen import supergrid\n",
    "import numpy as np\n",
    "refine=2  # Set to 2 for GIS_025 grid and 4 for GIS_0125\n",
    "lat0=-65.0 # This is a nominal starting latitude for Mercator grid\n",
    "lon0=-300. # Starting longitude\n",
    "lenlat=125. # nominal latitude range of Mercator grid\n",
    "lenlon=360. \n",
    "nx=1440*refine\n",
    "ny=700*refine\n",
    "ny2=110*refine\n",
    "lat0_sp=-78.0\n",
    "\n",
    "#### Begin Spherical Grid for Southern Ocean\n",
    "print ('constructing a spherical supergrid with (ny,nx) = ',ny,nx)\n",
    "print ('nominal starting lat and starting longitude =',lat0, lon0)\n",
    "print ('and nominal width in latitude = ',lenlat)\n",
    "spherical=supergrid(nx,ny2,'spherical','degrees',lat0_sp,mercator.y.min()-lat0_sp,lon0,lenlon,cyclic_x=True)\n",
    "spherical.grid_metrics()\n",
    "spherical.write_nc('antarctic_spherical_supergrid.nc')\n",
    "print (\"antarctic spherical max/min latitude=\", spherical.y.max(),spherical.y.min())\n",
    "print (\"spherical nj,ni=\", spherical.y.shape[0]-1,spherical.y.shape[1]-1)\n",
    "print (\"spherical starting longitude=\",spherical.x[0,0])\n",
    "print (\"spherical ending longitude=\",spherical.x[0,-1])\n"
   ]
  },
  {
   "cell_type": "code",
   "execution_count": 13,
   "metadata": {},
   "outputs": [
    {
     "data": {
      "image/png": "[encoded data removed]",
      "text/plain": [
       "<Figure size 432x288 with 1 Axes>"
      ]
     },
     "metadata": {},
     "output_type": "display_data"
    }
   ],
   "source": [
    "plt.plot( spherical.y[:,0], '.');"
   ]
  },
  {
   "cell_type": "markdown",
   "metadata": {},
   "source": [
    "## Simple line"
   ]
  },
  {
   "cell_type": "code",
   "execution_count": 14,
   "metadata": {},
   "outputs": [
    {
     "data": {
      "image/png": "[encoded data removed]",
      "text/plain": [
       "<Figure size 432x288 with 1 Axes>"
      ]
     },
     "metadata": {},
     "output_type": "display_data"
    }
   ],
   "source": [
    "lenlat_sp = grid_y_mercator[0]-lat0_sp\n",
    "grid_y_sp = np.zeros(ny2+1)\n",
    "jindp_sp  = np.arange(ny2+1)\n",
    "grid_y_sp = lat0_sp+jindp_sp*lenlat_sp/ny2\n",
    "plt.plot( spherical.y[:,0] - grid_y_sp[:], '.',label=\"difference of MIDAS and formula\") ;\n",
    "plt.legend(loc=0);"
   ]
  },
  {
   "cell_type": "markdown",
   "metadata": {},
   "source": [
    "Note the difference is due to the difference between our formula generated starting latitude of Mercator grid grid_y_mercator[0] and MIDAS generated quantity mercator.y[0,0]"
   ]
  },
  {
   "cell_type": "code",
   "execution_count": 15,
   "metadata": {},
   "outputs": [
    {
     "name": "stdout",
     "output_type": "stream",
     "text": [
      "-66.9086213054936 -66.85954724706843\n"
     ]
    },
    {
     "data": {
      "image/png": "[encoded data removed]",
      "text/plain": [
       "<Figure size 432x288 with 1 Axes>"
      ]
     },
     "metadata": {},
     "output_type": "display_data"
    }
   ],
   "source": [
    "print(grid_y_mercator[0] , mercator.y[0,0])\n",
    "lenlat_sp = mercator.y[0,0]-lat0_sp\n",
    "grid_y_sp = np.zeros(ny2+1)\n",
    "jindp_sp  = np.arange(ny2+1)\n",
    "grid_y_sp = lat0_sp+jindp_sp*lenlat_sp/ny2\n",
    "plt.plot( spherical.y[:,0] - grid_y_sp[:], '.',label=\"difference of MIDAS and formula\") ;\n",
    "plt.legend(loc=0);"
   ]
  },
  {
   "cell_type": "markdown",
   "metadata": {},
   "source": [
    "Put together with the our Mercator it looks like this.\n",
    "\n",
    "Note: The arrays overlap at the joint!"
   ]
  },
  {
   "cell_type": "code",
   "execution_count": 16,
   "metadata": {},
   "outputs": [
    {
     "name": "stdout",
     "output_type": "stream",
     "text": [
      "end lattude of SouthernSP -66.85954724706843\n",
      "start lattude of Mercator -66.9086213054936\n"
     ]
    },
    {
     "data": {
      "image/png": "[encoded data removed]",
      "text/plain": [
       "<Figure size 432x288 with 1 Axes>"
      ]
     },
     "metadata": {},
     "output_type": "display_data"
    }
   ],
   "source": [
    "lenlat_sp = grid_y_mercator[0]-lat0_sp\n",
    "geo_lat=np.zeros(ny2+ny+3)\n",
    "\n",
    "for j in np.arange(ny2+1):\n",
    "    geo_lat[j] = lat0_sp + j * lenlat_sp/ny2\n",
    "\n",
    "for j in np.arange(1,ny+3):\n",
    "    geo_lat[ny2+j] = geo_lat[ny2] + j * lenlat/ny\n",
    "\n",
    "print(\"end lattude of SouthernSP\", grid_y_sp[-1])    \n",
    "print(\"start lattude of Mercator\", grid_y_mercator[0])    \n",
    "\n",
    "plt.plot(geo_lat[:ny2+1], grid_y_sp[:], 'o');\n",
    "plt.plot(geo_lat[ny2+2:], grid_y_mercator[:], '.');\n",
    "\n",
    "\n",
    "\n",
    "#plt.plot(geo_lat, mercator.y[:,0], '.');\n",
    "#plt.plot(geo_lat[:ny2+1], spherical.y[:,0], '.');\n",
    "#plt.plot(geo_lat[ny2+2:], mercator.y[:,0], '.');"
   ]
  },
  {
   "cell_type": "markdown",
   "metadata": {},
   "source": [
    "# Tripolar grid"
   ]
  },
  {
   "cell_type": "markdown",
   "metadata": {},
   "source": [
    "## MIDAS"
   ]
  },
  {
   "cell_type": "code",
   "execution_count": 17,
   "metadata": {},
   "outputs": [
    {
     "name": "stdout",
     "output_type": "stream",
     "text": [
      "generated a tripolar supergrid of size (ny,nx)=  238 2880\n",
      "tripolar grid starting longitude =  -300.0\n",
      "tripolar grid starting latitude =  64.0589597296948\n"
     ]
    }
   ],
   "source": [
    "refine=2  # Set to 2 for GIS_025 grid and 4 for GIS_0125\n",
    "lat0=-65.0 # This is a nominal starting latitude for Mercator grid\n",
    "lon0=-300. # Starting longitude\n",
    "lenlat=125. # nominal latitude range of Mercator grid\n",
    "lenlon=360. \n",
    "nx=1440*refine\n",
    "ny=700*refine\n",
    "\n",
    "ny_ncap=119*refine\n",
    "lat0_tp=mercator.y.max()\n",
    "dlat=90.0-lat0_tp\n",
    "tripolar_n=supergrid(nx,ny_ncap,'spherical','degrees',lat0_tp,dlat,lon0,360.,tripolar_n=True)\n",
    "tripolar_n.grid_metrics()\n",
    "tripolar_n.write_nc('ncap_supergrid.nc')\n",
    "print (\"generated a tripolar supergrid of size (ny,nx)= \",tripolar_n.y.shape[0]-1,tripolar_n.y.shape[1]-1)\n",
    "print (\"tripolar grid starting longitude = \",tripolar_n.x[0,0])\n",
    "print (\"tripolar grid starting latitude = \",tripolar_n.y[0,0])\n"
   ]
  },
  {
   "cell_type": "code",
   "execution_count": 20,
   "metadata": {},
   "outputs": [
    {
     "data": {
      "image/png": "[encoded data removed]",
      "text/plain": [
       "<Figure size 432x288 with 1 Axes>"
      ]
     },
     "metadata": {},
     "output_type": "display_data"
    }
   ],
   "source": [
    "plt.plot( tripolar_n.y[:,0], '.');\n",
    "plt.plot( tripolar_n.y[:,10], '.');"
   ]
  },
  {
   "cell_type": "code",
   "execution_count": null,
   "metadata": {},
   "outputs": [],
   "source": []
  }
 ],
 "metadata": {
  "anaconda-cloud": {},
  "kernelspec": {
   "display_name": "Python [default]",
   "language": "python",
   "name": "python3"
  },
  "language_info": {
   "codemirror_mode": {
    "name": "ipython",
    "version": 3
   },
   "file_extension": ".py",
   "mimetype": "text/x-python",
   "name": "python",
   "nbconvert_exporter": "python",
   "pygments_lexer": "ipython3",
   "version": "3.5.5"
  }
 },
 "nbformat": 4,
 "nbformat_minor": 2
}
